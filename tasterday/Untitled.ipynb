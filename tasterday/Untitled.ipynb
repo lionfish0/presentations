{
 "cells": [
  {
   "cell_type": "code",
   "execution_count": 62,
   "metadata": {},
   "outputs": [
    {
     "data": {
      "text/plain": [
       "array([-0.13,  1.1 , -0.32, -0.31,  1.66,  0.55, -0.03,  0.27,  1.05,\n",
       "        0.1 ,  0.45, -0.12,  0.16,  0.04,  1.29, -0.06,  1.49,  0.04,\n",
       "        0.47,  0.02,  0.14,  1.44,  0.59, -0.58,  0.21, -0.17,  0.04,\n",
       "        0.53,  1.27, -0.04,  1.66,  0.  , -0.33,  0.62, -0.39, -0.21,\n",
       "        0.75,  0.06,  0.75, -0.06,  0.33,  0.12,  1.29,  1.13,  0.5 ,\n",
       "        0.72,  0.12,  0.34, -0.56, -0.17])"
      ]
     },
     "execution_count": 62,
     "metadata": {},
     "output_type": "execute_result"
    }
   ],
   "source": []
  },
  {
   "cell_type": "code",
   "execution_count": 101,
   "metadata": {},
   "outputs": [
    {
     "data": {
      "text/plain": [
       "[<matplotlib.lines.Line2D at 0x7f463bb8d9d0>]"
      ]
     },
     "execution_count": 101,
     "metadata": {},
     "output_type": "execute_result"
    },
    {
     "data": {
      "image/png": "[encoded data removed]",
      "text/plain": [
       "<Figure size 432x288 with 1 Axes>"
      ]
     },
     "metadata": {
      "needs_background": "light"
     },
     "output_type": "display_data"
    }
   ],
   "source": [
    "import numpy as np\n",
    "import matplotlib.pyplot as plt\n",
    "%matplotlib inline\n",
    "\n",
    "X = np.random.rand(100,3)\n",
    "data = 2\n",
    "\n",
    "if data==1:\n",
    "    X[:,2] = ((X[:,0]+2*X[:,1]+0.5*np.random.randn(X.shape[0]))>1.2).astype(int)\n",
    "if data==0:\n",
    "    X[:,2] = (np.abs(X[:,0]+2*X[:,1]-1.7)>0.5).astype(int)\n",
    "if data==2:\n",
    "    nX = X+np.random.randn(X.shape[0],3)*0.1\n",
    "    X[:,2] = 1\n",
    "    X[(nX[:,0]>0.5) & (nX[:,1]>0.5),2]=0\n",
    "    X[(nX[:,0]<0.5) & (nX[:,1]<0.5),2]=0\n",
    "    \n",
    "    \n",
    "plt.plot(X[X[:,2]==0,0],X[X[:,2]==0,1],'xr')\n",
    "plt.plot(X[X[:,2]==1,0],X[X[:,2]==1,1],'ob')        "
   ]
  },
  {
   "cell_type": "code",
   "execution_count": 102,
   "metadata": {},
   "outputs": [
    {
     "data": {
      "text/plain": [
       "array([[0.63, 0.57, 0.  ],\n",
       "       [0.61, 0.79, 0.  ],\n",
       "       [1.  , 0.09, 1.  ],\n",
       "       [0.34, 0.14, 0.  ],\n",
       "       [0.39, 0.17, 0.  ],\n",
       "       [0.72, 0.16, 1.  ],\n",
       "       [0.16, 0.03, 0.  ],\n",
       "       [0.22, 0.39, 0.  ],\n",
       "       [0.8 , 0.17, 1.  ],\n",
       "       [0.42, 0.75, 1.  ],\n",
       "       [0.14, 0.92, 1.  ],\n",
       "       [0.3 , 0.88, 1.  ],\n",
       "       [0.83, 0.6 , 1.  ],\n",
       "       [0.49, 0.29, 1.  ],\n",
       "       [0.14, 0.87, 1.  ],\n",
       "       [0.71, 0.6 , 0.  ],\n",
       "       [0.37, 0.23, 0.  ],\n",
       "       [0.42, 0.69, 1.  ],\n",
       "       [0.24, 0.06, 0.  ],\n",
       "       [0.92, 0.14, 1.  ],\n",
       "       [0.01, 0.63, 1.  ],\n",
       "       [0.83, 0.96, 0.  ],\n",
       "       [0.4 , 0.94, 1.  ],\n",
       "       [0.53, 0.97, 1.  ],\n",
       "       [0.44, 0.07, 1.  ],\n",
       "       [0.17, 0.23, 0.  ],\n",
       "       [0.73, 0.72, 0.  ],\n",
       "       [0.69, 0.99, 0.  ],\n",
       "       [0.68, 0.98, 0.  ],\n",
       "       [0.46, 0.62, 1.  ],\n",
       "       [0.23, 0.19, 0.  ],\n",
       "       [0.34, 0.48, 1.  ],\n",
       "       [0.51, 0.49, 1.  ],\n",
       "       [0.24, 0.02, 0.  ],\n",
       "       [0.67, 0.75, 0.  ],\n",
       "       [0.49, 0.33, 1.  ],\n",
       "       [0.17, 0.49, 1.  ],\n",
       "       [0.85, 0.68, 0.  ],\n",
       "       [0.95, 0.51, 0.  ],\n",
       "       [0.84, 0.28, 1.  ],\n",
       "       [0.88, 0.84, 0.  ],\n",
       "       [0.42, 0.44, 1.  ],\n",
       "       [0.99, 0.12, 1.  ],\n",
       "       [0.4 , 0.48, 1.  ],\n",
       "       [0.43, 0.78, 1.  ],\n",
       "       [0.03, 0.35, 0.  ],\n",
       "       [0.9 , 0.5 , 0.  ],\n",
       "       [0.46, 0.32, 0.  ],\n",
       "       [0.05, 0.14, 0.  ],\n",
       "       [0.24, 0.07, 0.  ],\n",
       "       [0.95, 0.79, 0.  ],\n",
       "       [0.87, 0.91, 0.  ],\n",
       "       [0.44, 0.28, 0.  ],\n",
       "       [0.56, 0.93, 0.  ],\n",
       "       [0.13, 0.24, 0.  ],\n",
       "       [0.81, 0.62, 0.  ],\n",
       "       [0.53, 0.37, 0.  ],\n",
       "       [0.03, 0.8 , 1.  ],\n",
       "       [0.32, 0.44, 0.  ],\n",
       "       [0.05, 0.82, 1.  ],\n",
       "       [0.06, 0.54, 0.  ],\n",
       "       [0.52, 0.42, 0.  ],\n",
       "       [0.03, 0.02, 0.  ],\n",
       "       [0.01, 0.4 , 0.  ],\n",
       "       [0.36, 0.26, 1.  ],\n",
       "       [0.91, 0.01, 1.  ],\n",
       "       [0.51, 0.91, 0.  ],\n",
       "       [0.56, 0.44, 0.  ],\n",
       "       [0.34, 0.37, 0.  ],\n",
       "       [0.46, 0.35, 0.  ],\n",
       "       [0.14, 0.64, 1.  ],\n",
       "       [0.64, 0.46, 0.  ],\n",
       "       [0.77, 0.42, 0.  ],\n",
       "       [0.5 , 0.79, 0.  ],\n",
       "       [0.91, 0.02, 1.  ],\n",
       "       [0.13, 0.87, 1.  ],\n",
       "       [0.53, 0.17, 0.  ],\n",
       "       [0.09, 0.93, 1.  ],\n",
       "       [0.42, 0.71, 1.  ],\n",
       "       [0.76, 0.04, 1.  ],\n",
       "       [0.88, 0.13, 1.  ],\n",
       "       [0.92, 0.2 , 1.  ],\n",
       "       [0.65, 0.9 , 0.  ],\n",
       "       [0.38, 0.46, 1.  ],\n",
       "       [0.93, 0.11, 1.  ],\n",
       "       [0.52, 0.2 , 0.  ],\n",
       "       [0.52, 0.71, 1.  ],\n",
       "       [0.38, 0.9 , 1.  ],\n",
       "       [0.31, 0.03, 0.  ],\n",
       "       [0.79, 0.01, 1.  ],\n",
       "       [0.5 , 0.25, 1.  ],\n",
       "       [0.36, 0.41, 0.  ],\n",
       "       [0.29, 0.5 , 1.  ],\n",
       "       [0.82, 0.14, 1.  ],\n",
       "       [0.76, 0.19, 1.  ],\n",
       "       [0.67, 0.58, 0.  ],\n",
       "       [0.91, 0.89, 0.  ],\n",
       "       [0.88, 0.42, 1.  ],\n",
       "       [0.55, 0.83, 0.  ],\n",
       "       [0.57, 0.47, 0.  ]])"
      ]
     },
     "execution_count": 102,
     "metadata": {},
     "output_type": "execute_result"
    }
   ],
   "source": [
    "np.set_printoptions(precision=2,suppress=True)\n",
    "X"
   ]
  },
  {
   "cell_type": "code",
   "execution_count": null,
   "metadata": {},
   "outputs": [],
   "source": []
  }
 ],
 "metadata": {
  "kernelspec": {
   "display_name": "Python 3",
   "language": "python",
   "name": "python3"
  },
  "language_info": {
   "codemirror_mode": {
    "name": "ipython",
    "version": 3
   },
   "file_extension": ".py",
   "mimetype": "text/x-python",
   "name": "python",
   "nbconvert_exporter": "python",
   "pygments_lexer": "ipython3",
   "version": "3.8.3"
  }
 },
 "nbformat": 4,
 "nbformat_minor": 4
}
